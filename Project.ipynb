{
  "nbformat": 4,
  "nbformat_minor": 0,
  "metadata": {
    "colab": {
      "name": "Untitled0.ipynb",
      "provenance": [],
      "collapsed_sections": []
    },
    "kernelspec": {
      "name": "python3",
      "display_name": "Python 3"
    },
    "accelerator": "GPU"
  },
  "cells": [
    {
      "cell_type": "code",
      "metadata": {
        "id": "RK9iybG7XmOJ",
        "colab_type": "code",
        "colab": {}
      },
      "source": [
        "# Description: This program classifies the MNIST handwritten digit images\n",
        "#              as a number 0 - 9\n",
        "\n",
        "# Install packages\n",
        "pip install tensorflow keras numpy mnist matplotlib"
      ],
      "execution_count": 0,
      "outputs": []
    },
    {
      "cell_type": "code",
      "metadata": {
        "id": "BdqVqvwGYehL",
        "colab_type": "code",
        "colab": {}
      },
      "source": [
        "#import the packages / dependecies\n",
        "import numpy as np \n",
        "import mnist # Get data set from\n",
        "from keras.models import Sequential #ANN architecture\n",
        "from keras. layers import Dense # The layers in the ANN\n",
        "from keras.utils import to_categorical\n",
        "import matplotlib.pyplot as plt # Graph"
      ],
      "execution_count": 0,
      "outputs": []
    },
    {
      "cell_type": "code",
      "metadata": {
        "id": "1puikeEfY1gH",
        "colab_type": "code",
        "colab": {}
      },
      "source": [
        "#Load the data set\n",
        "train_images = mnist.train_images() # training data of images\n",
        "train_labels = mnist.train_labels() # training data of the labels\n",
        "test_images = mnist. test_images()  # testing data images\n",
        "test_labels = mnist.test_labels()   # testing data labels"
      ],
      "execution_count": 0,
      "outputs": []
    },
    {
      "cell_type": "code",
      "metadata": {
        "id": "uRuMdtbpY-_-",
        "colab_type": "code",
        "outputId": "70d849eb-6565-4fe2-c040-c182fd9d6b0a",
        "colab": {
          "base_uri": "https://localhost:8080/",
          "height": 52
        }
      },
      "source": [
        "#Normalize the images \n",
        "#Normalize the pixel values from [0, 255] to [-0.5 to 0.5]\n",
        "#This make the network easier to train\n",
        "train_images = (train_images / 255) - 0.5\n",
        "test_images = (test_images/ 255) - 0.5\n",
        "\n",
        "#Flatten the images. Flatten each 28 x 28 image into a 784= 28^2 \n",
        "#dimensional vector and pass into the neural network\n",
        "train_images = train_images.reshape((-1, 784))\n",
        "test_images = test_images.reshape((-1,784))\n",
        "#print the new image shape\n",
        "print(train_images.shape) #60,000 rows and 784 cols\n",
        "print(test_images.shape)  #10,000 rows and 784 cols"
      ],
      "execution_count": 0,
      "outputs": [
        {
          "output_type": "stream",
          "text": [
            "(60000, 784)\n",
            "(10000, 784)\n"
          ],
          "name": "stdout"
        }
      ]
    },
    {
      "cell_type": "code",
      "metadata": {
        "id": "2gMVP_dWZEEu",
        "colab_type": "code",
        "colab": {}
      },
      "source": [
        "#Build the ANN model\n",
        "#With 3 layers, 2 with 64 neurons and activation function = relu\n",
        "#    and  1 layer with 10 neurons with activation function= softmax\n",
        "model = Sequential()\n",
        "model.add(Dense(64, activation='relu', input_dim=784))\n",
        "model.add(Dense(64, activation='relu'))\n",
        "model.add(Dense(10, activation='softmax'))"
      ],
      "execution_count": 0,
      "outputs": []
    },
    {
      "cell_type": "code",
      "metadata": {
        "id": "2wMc9U1jZRgM",
        "colab_type": "code",
        "colab": {}
      },
      "source": [
        "#Compile the model\n",
        "# loss measures how well the model did on training, and then tries to improve on\n",
        "# it using the optimizer\n",
        "model.compile(\n",
        "  optimizer= 'adam',\n",
        "    loss = 'categorical_crossentropy', #loss function for classes > 2\n",
        "    metrics = ['accuracy']\n",
        ")"
      ],
      "execution_count": 0,
      "outputs": []
    },
    {
      "cell_type": "code",
      "metadata": {
        "id": "_yUJi-wTZWTh",
        "colab_type": "code",
        "outputId": "467639ae-9aa7-444c-a8b2-15d733156e50",
        "colab": {
          "base_uri": "https://localhost:8080/",
          "height": 537
        }
      },
      "source": [
        "#Train the model\n",
        "model.fit(\n",
        "    train_images, #The training data images\n",
        "    to_categorical(train_labels),#The trainind data labels, label data only returns a single digit representing the class of each label Ex: train_labels = 2,to_categorical(2)= [0,0,1,0,0,0,0,0,0,0]\n",
        "    epochs=5, #Number of iterations over the entire data set to train on\n",
        "    batch_size = 3 #The number of samples per gradient update for training\n",
        ")"
      ],
      "execution_count": 0,
      "outputs": [
        {
          "output_type": "stream",
          "text": [
            "WARNING:tensorflow:From /usr/local/lib/python3.6/dist-packages/tensorflow_core/python/ops/math_grad.py:1424: where (from tensorflow.python.ops.array_ops) is deprecated and will be removed in a future version.\n",
            "Instructions for updating:\n",
            "Use tf.where in 2.0, which has the same broadcast rule as np.where\n",
            "WARNING:tensorflow:From /usr/local/lib/python3.6/dist-packages/keras/backend/tensorflow_backend.py:1033: The name tf.assign_add is deprecated. Please use tf.compat.v1.assign_add instead.\n",
            "\n",
            "WARNING:tensorflow:From /usr/local/lib/python3.6/dist-packages/keras/backend/tensorflow_backend.py:1020: The name tf.assign is deprecated. Please use tf.compat.v1.assign instead.\n",
            "\n",
            "WARNING:tensorflow:From /usr/local/lib/python3.6/dist-packages/keras/backend/tensorflow_backend.py:3005: The name tf.Session is deprecated. Please use tf.compat.v1.Session instead.\n",
            "\n",
            "Epoch 1/5\n",
            "WARNING:tensorflow:From /usr/local/lib/python3.6/dist-packages/keras/backend/tensorflow_backend.py:190: The name tf.get_default_session is deprecated. Please use tf.compat.v1.get_default_session instead.\n",
            "\n",
            "WARNING:tensorflow:From /usr/local/lib/python3.6/dist-packages/keras/backend/tensorflow_backend.py:197: The name tf.ConfigProto is deprecated. Please use tf.compat.v1.ConfigProto instead.\n",
            "\n",
            "WARNING:tensorflow:From /usr/local/lib/python3.6/dist-packages/keras/backend/tensorflow_backend.py:207: The name tf.global_variables is deprecated. Please use tf.compat.v1.global_variables instead.\n",
            "\n",
            "WARNING:tensorflow:From /usr/local/lib/python3.6/dist-packages/keras/backend/tensorflow_backend.py:216: The name tf.is_variable_initialized is deprecated. Please use tf.compat.v1.is_variable_initialized instead.\n",
            "\n",
            "WARNING:tensorflow:From /usr/local/lib/python3.6/dist-packages/keras/backend/tensorflow_backend.py:223: The name tf.variables_initializer is deprecated. Please use tf.compat.v1.variables_initializer instead.\n",
            "\n",
            "60000/60000 [==============================] - 66s 1ms/step - loss: 0.3224 - acc: 0.8995\n",
            "Epoch 2/5\n",
            "60000/60000 [==============================] - 61s 1ms/step - loss: 0.1905 - acc: 0.9426\n",
            "Epoch 3/5\n",
            "60000/60000 [==============================] - 60s 996us/step - loss: 0.1616 - acc: 0.9513\n",
            "Epoch 4/5\n",
            "60000/60000 [==============================] - 59s 983us/step - loss: 0.1476 - acc: 0.9564\n",
            "Epoch 5/5\n",
            "60000/60000 [==============================] - 58s 974us/step - loss: 0.1345 - acc: 0.9600\n"
          ],
          "name": "stdout"
        },
        {
          "output_type": "execute_result",
          "data": {
            "text/plain": [
              "<keras.callbacks.History at 0x7fed3da77668>"
            ]
          },
          "metadata": {
            "tags": []
          },
          "execution_count": 10
        }
      ]
    },
    {
      "cell_type": "code",
      "metadata": {
        "id": "6JpYExKNa5xB",
        "colab_type": "code",
        "outputId": "bc849fe7-5936-425e-86f8-38e2e0de69f4",
        "colab": {
          "base_uri": "https://localhost:8080/",
          "height": 52
        }
      },
      "source": [
        "#Evaluate the model\n",
        "model.evaluate(\n",
        "  test_images,\n",
        "  to_categorical(test_labels)\n",
        ")"
      ],
      "execution_count": 0,
      "outputs": [
        {
          "output_type": "stream",
          "text": [
            "10000/10000 [==============================] - 0s 38us/step\n"
          ],
          "name": "stdout"
        },
        {
          "output_type": "execute_result",
          "data": {
            "text/plain": [
              "[0.13777224600645713, 0.9611]"
            ]
          },
          "metadata": {
            "tags": []
          },
          "execution_count": 11
        }
      ]
    },
    {
      "cell_type": "code",
      "metadata": {
        "id": "ZkCDb3e3bDwo",
        "colab_type": "code",
        "colab": {}
      },
      "source": [
        "#save the model to disk\n",
        "model.save_weights('model.h5')\n",
        "# Load the model from disk later using:\n",
        "# Build the model.\n",
        "#model = Sequential([\n",
        "#  Dense(64, activation='relu', input_shape=(784,)),\n",
        "#  Dense(64, activation='relu'),\n",
        "#  Dense(10, activation='softmax'),\n",
        "#])\n",
        "# model.load_weights('model.h5')"
      ],
      "execution_count": 0,
      "outputs": []
    },
    {
      "cell_type": "code",
      "metadata": {
        "id": "95aXxk67bNJx",
        "colab_type": "code",
        "outputId": "7923a47c-7e12-4408-fc7b-cd8c21d13ef0",
        "colab": {
          "base_uri": "https://localhost:8080/",
          "height": 52
        }
      },
      "source": [
        "#Make predictions\n",
        "# Predict on the first 5 test images.\n",
        "# Keep in mind that the output of our network is 10 probabilities, \n",
        "#   so we'll use np.argmax()to turn those into actual digits\n",
        "predictions = model.predict(test_images[:5])\n",
        "#print(predictions)\n",
        "print (np.argmax(predictions, axis =1))\n",
        "print(test_labels[:5])"
      ],
      "execution_count": 0,
      "outputs": [
        {
          "output_type": "stream",
          "text": [
            "[7 2 1 0 4]\n",
            "[7 2 1 0 4]\n"
          ],
          "name": "stdout"
        }
      ]
    },
    {
      "cell_type": "code",
      "metadata": {
        "id": "n74MYIKdbR-F",
        "colab_type": "code",
        "outputId": "1a2cb515-0336-43dc-f32b-c62c8b9b25a5",
        "colab": {
          "base_uri": "https://localhost:8080/",
          "height": 1000
        }
      },
      "source": [
        "import matplotlib.pyplot as plt\n",
        "for i in range(0,5):\n",
        "  first_image = test_images[i]\n",
        "  first_image = np.array(first_image, dtype='float')\n",
        "  pixels = first_image.reshape((28, 28))\n",
        "  plt.imshow(pixels)\n",
        "  plt.show()"
      ],
      "execution_count": 0,
      "outputs": [
        {
          "output_type": "display_data",
          "data": {
            "image/png": "[encoded data removed]",
            "text/plain": [
              "<Figure size 432x288 with 1 Axes>"
            ]
          },
          "metadata": {
            "tags": []
          }
        },
        {
          "output_type": "display_data",
          "data": {
            "image/png": "[encoded data removed]",
            "text/plain": [
              "<Figure size 432x288 with 1 Axes>"
            ]
          },
          "metadata": {
            "tags": []
          }
        },
        {
          "output_type": "display_data",
          "data": {
            "image/png": "[encoded data removed]",
            "text/plain": [
              "<Figure size 432x288 with 1 Axes>"
            ]
          },
          "metadata": {
            "tags": []
          }
        },
        {
          "output_type": "display_data",
          "data": {
            "image/png": "[encoded data removed]",
            "text/plain": [
              "<Figure size 432x288 with 1 Axes>"
            ]
          },
          "metadata": {
            "tags": []
          }
        },
        {
          "output_type": "display_data",
          "data": {
            "image/png": "[encoded data removed]",
            "text/plain": [
              "<Figure size 432x288 with 1 Axes>"
            ]
          },
          "metadata": {
            "tags": []
          }
        }
      ]
    }
  ]
}